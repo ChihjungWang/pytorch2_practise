{
 "cells": [
  {
   "cell_type": "code",
   "execution_count": 1,
   "metadata": {},
   "outputs": [
    {
     "name": "stdout",
     "output_type": "stream",
     "text": [
      "torch : 2.0.1\n",
      "cuda_ver : 11.8\n",
      "cudnn : 8700\n",
      "python_ver : 3.10.11 | packaged by Anaconda, Inc. | (main, Apr 20 2023, 18:56:50) [MSC v.1916 64 bit (AMD64)]\n",
      "is_available : True\n",
      "current_device : 0\n"
     ]
    }
   ],
   "source": [
    "import torch\n",
    "import sys\n",
    "print(f'torch : {torch.__version__}')\n",
    "print(f'cuda_ver : {torch.version.cuda}')\n",
    "print(f'cudnn : {torch.backends.cudnn.version()}')\n",
    "print(f'python_ver : {sys.version}')\n",
    "print(f'is_available : {torch.cuda.is_available()}')\n",
    "print(f'current_device : {torch.cuda.current_device()}')"
   ]
  }
 ],
 "metadata": {
  "kernelspec": {
   "display_name": "Python 3.10.11 ('pytorch2')",
   "language": "python",
   "name": "python3"
  },
  "language_info": {
   "codemirror_mode": {
    "name": "ipython",
    "version": 3
   },
   "file_extension": ".py",
   "mimetype": "text/x-python",
   "name": "python",
   "nbconvert_exporter": "python",
   "pygments_lexer": "ipython3",
   "version": "3.10.11"
  },
  "orig_nbformat": 4,
  "vscode": {
   "interpreter": {
    "hash": "78c18e9e05529348c8bea20976e2308d7cbdea4e882dccb8a3338fc42872fc26"
   }
  }
 },
 "nbformat": 4,
 "nbformat_minor": 2
}
