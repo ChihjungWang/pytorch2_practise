{
 "cells": [
  {
   "cell_type": "code",
   "execution_count": 9,
   "metadata": {},
   "outputs": [
    {
     "name": "stdout",
     "output_type": "stream",
     "text": [
      "Files already downloaded and verified\n",
      "img.shape: torch.Size([3, 32, 32])\n",
      "target: 3\n"
     ]
    }
   ],
   "source": [
    "import torchvision\n",
    "from torch.utils.tensorboard import SummaryWriter\n",
    "# 準備測試數據集\n",
    "from torch.utils.data import DataLoader\n",
    "\n",
    "test_data = torchvision.datasets.CIFAR10(root='./dataset/CIFAR10', train=False, transform=torchvision.transforms.ToTensor(), download=True)\n",
    "# drop_last >> 若資料總數沒有被 batch_size整除, 直接捨棄最後一次資料\n",
    "# shuffle 每一次epoch的時候打亂資料集\n",
    "test_loader = DataLoader(dataset=test_data, batch_size=4, shuffle=True, num_workers=0, drop_last=True)\n",
    "\n",
    "# 測試數據及中的第一張圖片及target\n",
    "img, target = test_data[0]\n",
    "print(f'img.shape: {img.shape}')\n",
    "print(f'target: {target}')\n",
    "\n",
    "writer = SummaryWriter('dataloader')\n",
    "step = 0\n",
    "for epoch in range(2):\n",
    "    step =0\n",
    "    for data in test_loader:\n",
    "        imgs, targets = data\n",
    "        #  print(f'imgs.shape: {imgs.shape}')\n",
    "        # print(f'targets: {targets}')\n",
    "        writer.add_images('Epoch:{}'.format(epoch), imgs, step)\n",
    "        step = step + 1\n",
    "\n",
    "writer.close()\n"
   ]
  }
 ],
 "metadata": {
  "kernelspec": {
   "display_name": "Python 3.9.7 ('open-mmlab')",
   "language": "python",
   "name": "python3"
  },
  "language_info": {
   "codemirror_mode": {
    "name": "ipython",
    "version": 3
   },
   "file_extension": ".py",
   "mimetype": "text/x-python",
   "name": "python",
   "nbconvert_exporter": "python",
   "pygments_lexer": "ipython3",
   "version": "3.9.7"
  },
  "orig_nbformat": 4,
  "vscode": {
   "interpreter": {
    "hash": "78c734f862453909402f4e66a5b96fbb7f5663619ec884e1854cefc0a4d4e1af"
   }
  }
 },
 "nbformat": 4,
 "nbformat_minor": 2
}
