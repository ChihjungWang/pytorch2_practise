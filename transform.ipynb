{
 "cells": [
  {
   "cell_type": "code",
   "execution_count": 2,
   "metadata": {},
   "outputs": [],
   "source": [
    "from PIL import Image\n",
    "from torch.utils.tensorboard import SummaryWriter\n",
    "from torchvision import transforms\n",
    "\n",
    "\n",
    "\n",
    "# python的用法 -> tensor 數據類型\n",
    "# 通過 transforms.toTensor去看兩個問題\n",
    "\n",
    "# 2. 為什麼需要用Tensor數據\n",
    "#    為了要包裝神經網路的數據進去\n",
    "\n",
    "img_path = 'datasets/hymenoptera_data/train/ants/0013035.jpg'\n",
    "img = Image.open(img_path)\n",
    "writer = SummaryWriter('logs')\n",
    "\n",
    "# 1. transforms 該如何使用\n",
    "tensor_trans = transforms.ToTensor()\n",
    "tensor_img = tensor_trans(img)\n",
    "\n",
    "writer.add_image('Tensor_img', tensor_img)\n",
    "writer.close()\n"
   ]
  },
  {
   "cell_type": "code",
   "execution_count": 8,
   "metadata": {},
   "outputs": [
    {
     "name": "stdout",
     "output_type": "stream",
     "text": [
      "<PIL.JpegImagePlugin.JpegImageFile image mode=RGB size=768x512 at 0x2BE9FAD7D30>\n",
      "(768, 512)\n"
     ]
    }
   ],
   "source": [
    "from PIL import Image\n",
    "from torch.utils.tensorboard import SummaryWriter\n",
    "from torchvision import transforms\n",
    "\n",
    "writer = SummaryWriter('logs')\n",
    "img = Image.open('datasets/hymenoptera_data/train/ants/0013035.jpg')\n",
    "print(img)\n",
    "\n",
    "\n",
    "# ToTensor\n",
    "trans_totensor = transforms.ToTensor()\n",
    "img_tensor = trans_totensor(img)\n",
    "writer.add_image('ToTensor', img_tensor)\n",
    "\n",
    "\n",
    "# Normalize\n",
    "trans_norm = transforms.Normalize([0.5,0.5,0.5], [0.5,0.5,0.5])\n",
    "img_norm = trans_norm(img_tensor)\n",
    "writer.add_image('Normalize', img_norm)\n",
    "\n",
    "\n",
    "# Resize\n",
    "print(img.size)\n",
    "trans_resize = transforms.Resize((512, 512))\n",
    "img_resize = trans_resize(img)\n",
    "img_resize = trans_totensor(img_resize)\n",
    "writer.add_image('Resize', img_resize, 0)\n",
    "\n",
    "\n",
    "# Compose - resize - 2\n",
    "trans_resize_2 = transforms.Resize(512)\n",
    "# PIL -> PIL -> tensor\n",
    "trans_compose = transforms.Compose([\n",
    "    trans_resize_2,\n",
    "    trans_totensor\n",
    "])\n",
    "img_resize_2 = trans_compose(img)\n",
    "writer.add_image('Resize', img_resize_2, 1)\n",
    "\n",
    "\n",
    "# RandomCrop\n",
    "trans_random = transforms.RandomCrop(128,256)\n",
    "trans_compose_2 = transforms.Compose([\n",
    "    trans_random,\n",
    "    trans_totensor\n",
    "])\n",
    "\n",
    "for i in range(10):\n",
    "    img_crop = trans_compose_2(img)\n",
    "    writer.add_image('RandomCropHW', img_crop, i)\n",
    "\n",
    "\n",
    "writer.close()\n"
   ]
  }
 ],
 "metadata": {
  "kernelspec": {
   "display_name": "Python 3.10.11 ('pytorch2')",
   "language": "python",
   "name": "python3"
  },
  "language_info": {
   "codemirror_mode": {
    "name": "ipython",
    "version": 3
   },
   "file_extension": ".py",
   "mimetype": "text/x-python",
   "name": "python",
   "nbconvert_exporter": "python",
   "pygments_lexer": "ipython3",
   "version": "3.10.11"
  },
  "orig_nbformat": 4,
  "vscode": {
   "interpreter": {
    "hash": "78c18e9e05529348c8bea20976e2308d7cbdea4e882dccb8a3338fc42872fc26"
   }
  }
 },
 "nbformat": 4,
 "nbformat_minor": 2
}
