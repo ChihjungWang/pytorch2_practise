{
 "cells": [
  {
   "cell_type": "code",
   "execution_count": 3,
   "metadata": {},
   "outputs": [],
   "source": [
    "import numpy as np\n",
    "import pandas as pd\n",
    "import matplotlib.pyplot as plt\n",
    "# https://www.kaggle.com/code/sombersomni/finetuned-resnet-classifier-in-pytorch-97"
   ]
  },
  {
   "cell_type": "code",
   "execution_count": 4,
   "metadata": {},
   "outputs": [
    {
     "data": {
      "text/html": [
       "<div>\n",
       "<style scoped>\n",
       "    .dataframe tbody tr th:only-of-type {\n",
       "        vertical-align: middle;\n",
       "    }\n",
       "\n",
       "    .dataframe tbody tr th {\n",
       "        vertical-align: top;\n",
       "    }\n",
       "\n",
       "    .dataframe thead th {\n",
       "        text-align: right;\n",
       "    }\n",
       "</style>\n",
       "<table border=\"1\" class=\"dataframe\">\n",
       "  <thead>\n",
       "    <tr style=\"text-align: right;\">\n",
       "      <th></th>\n",
       "      <th>class id</th>\n",
       "      <th>filepaths</th>\n",
       "      <th>labels</th>\n",
       "      <th>data set</th>\n",
       "      <th>scientific name</th>\n",
       "    </tr>\n",
       "  </thead>\n",
       "  <tbody>\n",
       "    <tr>\n",
       "      <th>0</th>\n",
       "      <td>0</td>\n",
       "      <td>train/AFRICAN LEOPARD/001.jpg</td>\n",
       "      <td>AFRICAN LEOPARD</td>\n",
       "      <td>train</td>\n",
       "      <td>Panthera pardus pardus</td>\n",
       "    </tr>\n",
       "    <tr>\n",
       "      <th>1</th>\n",
       "      <td>0</td>\n",
       "      <td>train/AFRICAN LEOPARD/002.jpg</td>\n",
       "      <td>AFRICAN LEOPARD</td>\n",
       "      <td>train</td>\n",
       "      <td>Panthera pardus pardus</td>\n",
       "    </tr>\n",
       "    <tr>\n",
       "      <th>2</th>\n",
       "      <td>0</td>\n",
       "      <td>train/AFRICAN LEOPARD/003.jpg</td>\n",
       "      <td>AFRICAN LEOPARD</td>\n",
       "      <td>train</td>\n",
       "      <td>Panthera pardus pardus</td>\n",
       "    </tr>\n",
       "    <tr>\n",
       "      <th>3</th>\n",
       "      <td>0</td>\n",
       "      <td>train/AFRICAN LEOPARD/004.jpg</td>\n",
       "      <td>AFRICAN LEOPARD</td>\n",
       "      <td>train</td>\n",
       "      <td>Panthera pardus pardus</td>\n",
       "    </tr>\n",
       "    <tr>\n",
       "      <th>4</th>\n",
       "      <td>0</td>\n",
       "      <td>train/AFRICAN LEOPARD/005.jpg</td>\n",
       "      <td>AFRICAN LEOPARD</td>\n",
       "      <td>train</td>\n",
       "      <td>Panthera pardus pardus</td>\n",
       "    </tr>\n",
       "  </tbody>\n",
       "</table>\n",
       "</div>"
      ],
      "text/plain": [
       "   class id                      filepaths           labels data set   \n",
       "0         0  train/AFRICAN LEOPARD/001.jpg  AFRICAN LEOPARD    train  \\\n",
       "1         0  train/AFRICAN LEOPARD/002.jpg  AFRICAN LEOPARD    train   \n",
       "2         0  train/AFRICAN LEOPARD/003.jpg  AFRICAN LEOPARD    train   \n",
       "3         0  train/AFRICAN LEOPARD/004.jpg  AFRICAN LEOPARD    train   \n",
       "4         0  train/AFRICAN LEOPARD/005.jpg  AFRICAN LEOPARD    train   \n",
       "\n",
       "          scientific name  \n",
       "0  Panthera pardus pardus  \n",
       "1  Panthera pardus pardus  \n",
       "2  Panthera pardus pardus  \n",
       "3  Panthera pardus pardus  \n",
       "4  Panthera pardus pardus  "
      ]
     },
     "execution_count": 4,
     "metadata": {},
     "output_type": "execute_result"
    }
   ],
   "source": [
    "root_path = 'kaggle/10BigCats'\n",
    "wildcats_data = pd.read_csv(f'{root_path}/WILDCATS.CSV')\n",
    "# 只看前五個\n",
    "wildcats_data.head()"
   ]
  },
  {
   "cell_type": "code",
   "execution_count": 5,
   "metadata": {},
   "outputs": [],
   "source": [
    "import torch\n",
    "torch.manual_seed(888)\n",
    "device = torch.device('cuda' if torch.cuda.is_available() else 'cpu')"
   ]
  },
  {
   "cell_type": "code",
   "execution_count": 6,
   "metadata": {},
   "outputs": [],
   "source": [
    "from torch.utils.data import Dataset\n",
    "import torchvision.transforms as transforms\n",
    "from PIL import Image\n",
    "import os\n",
    "\n",
    "class WildCatDataset(Dataset):\n",
    "    def __init__(self, data, transform=None, data_augmentation=False):\n",
    "        # index 欄位丟掉\n",
    "        self.data = data.reset_index(drop=True)\n",
    "        self.transform = transform\n",
    "        self.initial_transform = transforms.Compose([\n",
    "            transforms.PILToTensor(),\n",
    "        ])\n",
    "        # mean=[0.485, 0.456, 0.406],std=[0.229, 0.224, 0.224], 是由imagenet 訓練集中抽樣計算出來的\n",
    "        input_transforms = [\n",
    "            transforms.Normalize(\n",
    "                mean=[0.485, 0.456, 0.406],\n",
    "                std=[0.229, 0.224, 0.225]\n",
    "            )]+([transforms.RandomHorizontalFlip()] if data_augmentation else [])\n",
    "\n",
    "        self.input_transform = transforms.Compose(input_transforms)\n",
    "\n",
    "    def __len__(self):\n",
    "        return len(self.data)\n",
    "\n",
    "    def __getitem__(self, idx):\n",
    "        # 分類編號\n",
    "        class_id = self.data.loc[idx, 'class id']\n",
    "        # 檔案位置\n",
    "        file_path = self.data.loc[idx, 'filepaths']\n",
    "        name = self.data.loc[idx, 'labels']\n",
    "        # 打開圖像轉成 tensor\n",
    "        full_path = os.path.join(root_path, file_path)\n",
    "        with Image.open(full_path) as img:\n",
    "            img = self.initial_transform(img)\n",
    "            # 旋轉圖像，因為它們最初都是逆時針翻轉 90 度\n",
    "            img = transforms.functional.rotate(img, 90)\n",
    "\n",
    "        if self.transform:\n",
    "            img = self.transform(img)\n",
    "        # 正規化\n",
    "        img_input = self.input_transform(img.float())\n",
    "        img = img.transpose(2,0).detach().numpy()\n",
    "        sample ={'targets':class_id, 'inputs': img_input, 'images':img, 'names': name}\n",
    "        return sample\n",
    "\n"
   ]
  },
  {
   "cell_type": "code",
   "execution_count": 7,
   "metadata": {},
   "outputs": [
    {
     "data": {
      "text/plain": [
       "(2339, 50, 50)"
      ]
     },
     "execution_count": 7,
     "metadata": {},
     "output_type": "execute_result"
    }
   ],
   "source": [
    "# Let's separate each data set\n",
    "train_data = wildcats_data[wildcats_data['data set'] == 'train']\n",
    "test_data = wildcats_data[wildcats_data['data set'] == 'test']\n",
    "valid_data = wildcats_data[wildcats_data['data set'] == 'valid']\n",
    "len(train_data), len(test_data), len(valid_data)"
   ]
  },
  {
   "cell_type": "code",
   "execution_count": 8,
   "metadata": {},
   "outputs": [],
   "source": [
    "from torch.utils.data import DataLoader\n",
    "\n",
    "batch_size = 64\n",
    "test_dataloader = DataLoader(WildCatDataset(test_data), batch_size=batch_size, shuffle=False)\n",
    "valid_dataloader = DataLoader(WildCatDataset(valid_data), batch_size=batch_size, shuffle=False)"
   ]
  },
  {
   "cell_type": "code",
   "execution_count": 11,
   "metadata": {},
   "outputs": [],
   "source": [
    "from torchvision import models\n",
    "class Model(torch.nn.Module):\n",
    "    def __init__(self, num_classes=10):\n",
    "        super(Model, self).__init__()\n",
    "        \n",
    "        # Load the ResNet model\n",
    "        resnet = models.resnet101(weights=models.ResNet101_Weights.DEFAULT)\n",
    "        # I removed this because I get better results fine tuning the model\n",
    "#         for param in resnet.parameters():\n",
    "#             param.requires_grad = False\n",
    "        \n",
    "        # Reconstruct the model without the last layer\n",
    "        self.net = torch.nn.Sequential(*list(resnet.children())[:-1])\n",
    "        # Build fully connected layers to handle predictions\n",
    "        self.fcs = torch.nn.Sequential(\n",
    "            torch.nn.Linear(2048, 2048),\n",
    "            torch.nn.BatchNorm1d(2048),\n",
    "            torch.nn.ReLU(),\n",
    "            torch.nn.Linear(2048, num_classes)\n",
    "        )\n",
    "        \n",
    "    def forward(self, x):\n",
    "        # Pass the input through the ResNext model\n",
    "        x = self.net(x)\n",
    "        # Flatten the output of ResNet\n",
    "        x = x.view(x.shape[0], -1)\n",
    "        # Send to fully connected layer\n",
    "        return self.fcs(x)"
   ]
  },
  {
   "cell_type": "code",
   "execution_count": 12,
   "metadata": {},
   "outputs": [],
   "source": [
    "def evaluate(model, dataloader):\n",
    "    with torch.inference_mode():\n",
    "        total, correct = 0, 0\n",
    "        for data in dataloader:\n",
    "            # Get the inputs and move them to the device\n",
    "            inputs, targets = data['inputs'].float(), data['targets'].long()\n",
    "            inputs, targets = inputs.to(device), targets.to(device)\n",
    "\n",
    "            # Forward pass\n",
    "            outputs = model(inputs)\n",
    "            _, predicted = torch.max(outputs, axis=1)\n",
    "\n",
    "            # Record the accuracy\n",
    "            total += targets.size(0)\n",
    "            correct += (predicted == targets).sum().item()\n",
    "\n",
    "    # Print the accuracy\n",
    "    print('Accuracy of the model on the %d images: %.2f %%' % (total, 100 * correct / total))"
   ]
  },
  {
   "cell_type": "code",
   "execution_count": 13,
   "metadata": {},
   "outputs": [
    {
     "name": "stdout",
     "output_type": "stream",
     "text": [
      "Test Case\n",
      "Accuracy of the model on the 50 images: 98.00 %\n",
      "Valid Case\n",
      "Accuracy of the model on the 50 images: 98.00 %\n"
     ]
    }
   ],
   "source": [
    "# .unique)_ 收尋不重複的標籤\n",
    "num_classes = len(wildcats_data['class id'].unique())\n",
    "model = Model(num_classes).to(device)\n",
    "model.load_state_dict(torch.load('checkpoints/10BigCats_v01.pth'))\n",
    "\n",
    "# Evaluate test data\n",
    "print('Test Case')\n",
    "evaluate(model, test_dataloader)\n",
    "\n",
    "print('Valid Case')\n",
    "# Evaluate valid data\n",
    "evaluate(model, valid_dataloader)"
   ]
  }
 ],
 "metadata": {
  "kernelspec": {
   "display_name": "Python 3.10.11 ('pytorch2')",
   "language": "python",
   "name": "python3"
  },
  "language_info": {
   "codemirror_mode": {
    "name": "ipython",
    "version": 3
   },
   "file_extension": ".py",
   "mimetype": "text/x-python",
   "name": "python",
   "nbconvert_exporter": "python",
   "pygments_lexer": "ipython3",
   "version": "3.10.11"
  },
  "orig_nbformat": 4,
  "vscode": {
   "interpreter": {
    "hash": "78c18e9e05529348c8bea20976e2308d7cbdea4e882dccb8a3338fc42872fc26"
   }
  }
 },
 "nbformat": 4,
 "nbformat_minor": 2
}
