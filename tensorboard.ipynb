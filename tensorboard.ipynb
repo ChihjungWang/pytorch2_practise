{
 "cells": [
  {
   "cell_type": "code",
   "execution_count": 10,
   "metadata": {},
   "outputs": [
    {
     "name": "stdout",
     "output_type": "stream",
     "text": [
      "img_array_type:<class 'numpy.ndarray'>\n",
      "img_array_shape:(512, 768, 3)\n",
      "img_array_type:<class 'numpy.ndarray'>\n",
      "img_array_shape:(450, 500, 3)\n"
     ]
    }
   ],
   "source": [
    "from torch.utils.tensorboard import SummaryWriter\n",
    "import numpy as np\n",
    "from PIL import Image\n",
    "\n",
    "writer = SummaryWriter(\"logs\")\n",
    "image_path = 'image/hymenoptera_data/train/ants/0013035.jpg'\n",
    "img_PIL = Image.open(image_path)\n",
    "img_array = np.array(img_PIL)\n",
    "print(f'img_array_type:{type(img_array)}')\n",
    "print(f'img_array_shape:{img_array.shape}')\n",
    "# add_image 的維度必須一致\n",
    "writer.add_image('test', img_array, 1, dataformats='HWC')\n",
    "\n",
    "\n",
    "image_path = 'image/hymenoptera_data/train/bees/16838648_415acd9e3f.jpg'\n",
    "img_PIL = Image.open(image_path)\n",
    "img_array = np.array(img_PIL)\n",
    "print(f'img_array_type:{type(img_array)}')\n",
    "print(f'img_array_shape:{img_array.shape}')\n",
    "\n",
    "\n",
    "writer.add_image('test', img_array, 2, dataformats='HWC')\n",
    "\n",
    "for i in range(100):\n",
    "    writer.add_scalar('y=2x', 2*i, i)\n",
    "\n",
    "writer.close()\n",
    "\n"
   ]
  },
  {
   "cell_type": "code",
   "execution_count": null,
   "metadata": {},
   "outputs": [],
   "source": [
    "image_path = 'image/hymenoptera_data/train/ants/0013035.jpg'"
   ]
  }
 ],
 "metadata": {
  "kernelspec": {
   "display_name": "Python 3.10.11 ('pytorch2')",
   "language": "python",
   "name": "python3"
  },
  "language_info": {
   "codemirror_mode": {
    "name": "ipython",
    "version": 3
   },
   "file_extension": ".py",
   "mimetype": "text/x-python",
   "name": "python",
   "nbconvert_exporter": "python",
   "pygments_lexer": "ipython3",
   "version": "3.10.11"
  },
  "orig_nbformat": 4,
  "vscode": {
   "interpreter": {
    "hash": "78c18e9e05529348c8bea20976e2308d7cbdea4e882dccb8a3338fc42872fc26"
   }
  }
 },
 "nbformat": 4,
 "nbformat_minor": 2
}
