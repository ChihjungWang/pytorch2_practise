{
 "cells": [
  {
   "cell_type": "code",
   "execution_count": 3,
   "metadata": {},
   "outputs": [
    {
     "name": "stdout",
     "output_type": "stream",
     "text": [
      "[(0.951, 'aa'), (0.003, 'bb'), (0.0004, 'cc'), (0.157, 'dd'), (0.112, 'ee'), (0.00185, 'ss')]\n",
      "cc\n"
     ]
    }
   ],
   "source": [
    "aa_list = [0.951,0.003,0.0004,0.157,0.112,0.00185]\n",
    "bb_list = [\"aa\",\"bb\",\"cc\",\"dd\",\"ee\",\"ss\"]\n",
    "cc_list = list(zip(aa_list, bb_list))\n",
    "print(cc_list)\n",
    "print(cc_list[2][1])"
   ]
  },
  {
   "cell_type": "code",
   "execution_count": 3,
   "metadata": {},
   "outputs": [
    {
     "name": "stdout",
     "output_type": "stream",
     "text": [
      "50\n"
     ]
    }
   ],
   "source": [
    "epochs = [(30,0.001),(20,0.001),(10,0.0001)]\n",
    "aa = sum([e[0] for e in epochs[:2]])\n",
    "print(aa)"
   ]
  }
 ],
 "metadata": {
  "kernelspec": {
   "display_name": "Python 3.10.11 ('pytorch2')",
   "language": "python",
   "name": "python3"
  },
  "language_info": {
   "codemirror_mode": {
    "name": "ipython",
    "version": 3
   },
   "file_extension": ".py",
   "mimetype": "text/x-python",
   "name": "python",
   "nbconvert_exporter": "python",
   "pygments_lexer": "ipython3",
   "version": "3.10.11"
  },
  "orig_nbformat": 4,
  "vscode": {
   "interpreter": {
    "hash": "78c18e9e05529348c8bea20976e2308d7cbdea4e882dccb8a3338fc42872fc26"
   }
  }
 },
 "nbformat": 4,
 "nbformat_minor": 2
}
